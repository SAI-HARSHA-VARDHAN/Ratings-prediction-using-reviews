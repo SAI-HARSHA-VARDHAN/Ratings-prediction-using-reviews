{
 "cells": [
  {
   "cell_type": "code",
   "execution_count": 1,
   "metadata": {},
   "outputs": [],
   "source": [
    "import pandas as pd\n",
    "import numpy as np\n",
    "import matplotlib.pyplot as plt\n",
    "import seaborn as sns\n",
    "%matplotlib inline"
   ]
  },
  {
   "cell_type": "code",
   "execution_count": 2,
   "metadata": {},
   "outputs": [
    {
     "data": {
      "text/html": [
       "<div>\n",
       "<style scoped>\n",
       "    .dataframe tbody tr th:only-of-type {\n",
       "        vertical-align: middle;\n",
       "    }\n",
       "\n",
       "    .dataframe tbody tr th {\n",
       "        vertical-align: top;\n",
       "    }\n",
       "\n",
       "    .dataframe thead th {\n",
       "        text-align: right;\n",
       "    }\n",
       "</style>\n",
       "<table border=\"1\" class=\"dataframe\">\n",
       "  <thead>\n",
       "    <tr style=\"text-align: right;\">\n",
       "      <th></th>\n",
       "      <th>business_id</th>\n",
       "      <th>date</th>\n",
       "      <th>review_id</th>\n",
       "      <th>text</th>\n",
       "      <th>stars</th>\n",
       "      <th>type</th>\n",
       "      <th>user_id</th>\n",
       "      <th>cool</th>\n",
       "      <th>useful</th>\n",
       "      <th>funny</th>\n",
       "    </tr>\n",
       "  </thead>\n",
       "  <tbody>\n",
       "    <tr>\n",
       "      <th>0</th>\n",
       "      <td>n-Q7d10K0h6PyNewmiHLyg</td>\n",
       "      <td>2011-04-04</td>\n",
       "      <td>N3Ut6LtL3lIOfTZDNzR-AA</td>\n",
       "      <td>Phoenix Muni is a great stadium to see Oakland...</td>\n",
       "      <td>4</td>\n",
       "      <td>review</td>\n",
       "      <td>gVgbIRT9mJkeWSAzBA9i6g</td>\n",
       "      <td>0</td>\n",
       "      <td>2</td>\n",
       "      <td>0</td>\n",
       "    </tr>\n",
       "    <tr>\n",
       "      <th>1</th>\n",
       "      <td>NKMyRG-hK6_HNMlckY7Hxw</td>\n",
       "      <td>2012-05-14</td>\n",
       "      <td>0MAj6HuvWTlvvg428kPloQ</td>\n",
       "      <td>I came here for the first time ever on Mother'...</td>\n",
       "      <td>5</td>\n",
       "      <td>review</td>\n",
       "      <td>F6QsMoJdvtohlbnST-fDyQ</td>\n",
       "      <td>1</td>\n",
       "      <td>2</td>\n",
       "      <td>2</td>\n",
       "    </tr>\n",
       "    <tr>\n",
       "      <th>2</th>\n",
       "      <td>RFeDe3fNr14kvUKlVx6_4w</td>\n",
       "      <td>2010-06-15</td>\n",
       "      <td>G2OVqZAkNl5OBrzeTrX8hA</td>\n",
       "      <td>This was the first Thai I have had and it did ...</td>\n",
       "      <td>4</td>\n",
       "      <td>review</td>\n",
       "      <td>Qz_WQ6blpBBSaEwsofbB_w</td>\n",
       "      <td>0</td>\n",
       "      <td>1</td>\n",
       "      <td>0</td>\n",
       "    </tr>\n",
       "    <tr>\n",
       "      <th>3</th>\n",
       "      <td>YKOvlBNkF4KpUP9q7x862w</td>\n",
       "      <td>2009-03-04</td>\n",
       "      <td>ES4-S0n_LN5PmtJHmiwf8g</td>\n",
       "      <td>I was toying with the idea of going on the wag...</td>\n",
       "      <td>4</td>\n",
       "      <td>review</td>\n",
       "      <td>gvXV0RHOxI_WhT91LMPNNQ</td>\n",
       "      <td>3</td>\n",
       "      <td>2</td>\n",
       "      <td>2</td>\n",
       "    </tr>\n",
       "    <tr>\n",
       "      <th>4</th>\n",
       "      <td>itpHJcXW0PXNsdTbbKMfpA</td>\n",
       "      <td>2012-09-30</td>\n",
       "      <td>RFcu-xmzE52r93kIO4CeEg</td>\n",
       "      <td>I love my eye doctor!  Platonically, of course...</td>\n",
       "      <td>5</td>\n",
       "      <td>review</td>\n",
       "      <td>lKze8Z4vzqgN5R8Bq8F_vA</td>\n",
       "      <td>0</td>\n",
       "      <td>0</td>\n",
       "      <td>0</td>\n",
       "    </tr>\n",
       "  </tbody>\n",
       "</table>\n",
       "</div>"
      ],
      "text/plain": [
       "              business_id        date               review_id  \\\n",
       "0  n-Q7d10K0h6PyNewmiHLyg  2011-04-04  N3Ut6LtL3lIOfTZDNzR-AA   \n",
       "1  NKMyRG-hK6_HNMlckY7Hxw  2012-05-14  0MAj6HuvWTlvvg428kPloQ   \n",
       "2  RFeDe3fNr14kvUKlVx6_4w  2010-06-15  G2OVqZAkNl5OBrzeTrX8hA   \n",
       "3  YKOvlBNkF4KpUP9q7x862w  2009-03-04  ES4-S0n_LN5PmtJHmiwf8g   \n",
       "4  itpHJcXW0PXNsdTbbKMfpA  2012-09-30  RFcu-xmzE52r93kIO4CeEg   \n",
       "\n",
       "                                                text  stars    type  \\\n",
       "0  Phoenix Muni is a great stadium to see Oakland...      4  review   \n",
       "1  I came here for the first time ever on Mother'...      5  review   \n",
       "2  This was the first Thai I have had and it did ...      4  review   \n",
       "3  I was toying with the idea of going on the wag...      4  review   \n",
       "4  I love my eye doctor!  Platonically, of course...      5  review   \n",
       "\n",
       "                  user_id  cool  useful  funny  \n",
       "0  gVgbIRT9mJkeWSAzBA9i6g     0       2      0  \n",
       "1  F6QsMoJdvtohlbnST-fDyQ     1       2      2  \n",
       "2  Qz_WQ6blpBBSaEwsofbB_w     0       1      0  \n",
       "3  gvXV0RHOxI_WhT91LMPNNQ     3       2      2  \n",
       "4  lKze8Z4vzqgN5R8Bq8F_vA     0       0      0  "
      ]
     },
     "execution_count": 2,
     "metadata": {},
     "output_type": "execute_result"
    }
   ],
   "source": [
    "df = pd.read_csv(\"train.csv\")\n",
    "df.head()"
   ]
  },
  {
   "cell_type": "code",
   "execution_count": 3,
   "metadata": {},
   "outputs": [
    {
     "data": {
      "text/plain": [
       "(8000, 10)"
      ]
     },
     "execution_count": 3,
     "metadata": {},
     "output_type": "execute_result"
    }
   ],
   "source": [
    "df.shape"
   ]
  },
  {
   "cell_type": "code",
   "execution_count": 4,
   "metadata": {},
   "outputs": [
    {
     "name": "stdout",
     "output_type": "stream",
     "text": [
      "<class 'pandas.core.frame.DataFrame'>\n",
      "RangeIndex: 8000 entries, 0 to 7999\n",
      "Data columns (total 10 columns):\n",
      "business_id    8000 non-null object\n",
      "date           8000 non-null object\n",
      "review_id      8000 non-null object\n",
      "text           8000 non-null object\n",
      "stars          8000 non-null int64\n",
      "type           8000 non-null object\n",
      "user_id        8000 non-null object\n",
      "cool           8000 non-null int64\n",
      "useful         8000 non-null int64\n",
      "funny          8000 non-null int64\n",
      "dtypes: int64(4), object(6)\n",
      "memory usage: 625.1+ KB\n"
     ]
    }
   ],
   "source": [
    "df.info()"
   ]
  },
  {
   "cell_type": "code",
   "execution_count": 5,
   "metadata": {},
   "outputs": [
    {
     "data": {
      "text/html": [
       "<div>\n",
       "<style scoped>\n",
       "    .dataframe tbody tr th:only-of-type {\n",
       "        vertical-align: middle;\n",
       "    }\n",
       "\n",
       "    .dataframe tbody tr th {\n",
       "        vertical-align: top;\n",
       "    }\n",
       "\n",
       "    .dataframe thead th {\n",
       "        text-align: right;\n",
       "    }\n",
       "</style>\n",
       "<table border=\"1\" class=\"dataframe\">\n",
       "  <thead>\n",
       "    <tr style=\"text-align: right;\">\n",
       "      <th></th>\n",
       "      <th>stars</th>\n",
       "      <th>cool</th>\n",
       "      <th>useful</th>\n",
       "      <th>funny</th>\n",
       "    </tr>\n",
       "  </thead>\n",
       "  <tbody>\n",
       "    <tr>\n",
       "      <th>count</th>\n",
       "      <td>8000.000000</td>\n",
       "      <td>8000.000000</td>\n",
       "      <td>8000.000000</td>\n",
       "      <td>8000.000000</td>\n",
       "    </tr>\n",
       "    <tr>\n",
       "      <th>mean</th>\n",
       "      <td>3.770375</td>\n",
       "      <td>0.868625</td>\n",
       "      <td>1.404500</td>\n",
       "      <td>0.696000</td>\n",
       "    </tr>\n",
       "    <tr>\n",
       "      <th>std</th>\n",
       "      <td>1.220485</td>\n",
       "      <td>2.089536</td>\n",
       "      <td>2.352301</td>\n",
       "      <td>1.926732</td>\n",
       "    </tr>\n",
       "    <tr>\n",
       "      <th>min</th>\n",
       "      <td>1.000000</td>\n",
       "      <td>0.000000</td>\n",
       "      <td>0.000000</td>\n",
       "      <td>0.000000</td>\n",
       "    </tr>\n",
       "    <tr>\n",
       "      <th>25%</th>\n",
       "      <td>3.000000</td>\n",
       "      <td>0.000000</td>\n",
       "      <td>0.000000</td>\n",
       "      <td>0.000000</td>\n",
       "    </tr>\n",
       "    <tr>\n",
       "      <th>50%</th>\n",
       "      <td>4.000000</td>\n",
       "      <td>0.000000</td>\n",
       "      <td>1.000000</td>\n",
       "      <td>0.000000</td>\n",
       "    </tr>\n",
       "    <tr>\n",
       "      <th>75%</th>\n",
       "      <td>5.000000</td>\n",
       "      <td>1.000000</td>\n",
       "      <td>2.000000</td>\n",
       "      <td>1.000000</td>\n",
       "    </tr>\n",
       "    <tr>\n",
       "      <th>max</th>\n",
       "      <td>5.000000</td>\n",
       "      <td>77.000000</td>\n",
       "      <td>76.000000</td>\n",
       "      <td>57.000000</td>\n",
       "    </tr>\n",
       "  </tbody>\n",
       "</table>\n",
       "</div>"
      ],
      "text/plain": [
       "             stars         cool       useful        funny\n",
       "count  8000.000000  8000.000000  8000.000000  8000.000000\n",
       "mean      3.770375     0.868625     1.404500     0.696000\n",
       "std       1.220485     2.089536     2.352301     1.926732\n",
       "min       1.000000     0.000000     0.000000     0.000000\n",
       "25%       3.000000     0.000000     0.000000     0.000000\n",
       "50%       4.000000     0.000000     1.000000     0.000000\n",
       "75%       5.000000     1.000000     2.000000     1.000000\n",
       "max       5.000000    77.000000    76.000000    57.000000"
      ]
     },
     "execution_count": 5,
     "metadata": {},
     "output_type": "execute_result"
    }
   ],
   "source": [
    "df.describe()"
   ]
  },
  {
   "cell_type": "code",
   "execution_count": 6,
   "metadata": {},
   "outputs": [
    {
     "data": {
      "text/html": [
       "<div>\n",
       "<style scoped>\n",
       "    .dataframe tbody tr th:only-of-type {\n",
       "        vertical-align: middle;\n",
       "    }\n",
       "\n",
       "    .dataframe tbody tr th {\n",
       "        vertical-align: top;\n",
       "    }\n",
       "\n",
       "    .dataframe thead th {\n",
       "        text-align: right;\n",
       "    }\n",
       "</style>\n",
       "<table border=\"1\" class=\"dataframe\">\n",
       "  <thead>\n",
       "    <tr style=\"text-align: right;\">\n",
       "      <th></th>\n",
       "      <th>business_id</th>\n",
       "      <th>date</th>\n",
       "      <th>review_id</th>\n",
       "      <th>text</th>\n",
       "      <th>stars</th>\n",
       "      <th>type</th>\n",
       "      <th>user_id</th>\n",
       "      <th>cool</th>\n",
       "      <th>useful</th>\n",
       "      <th>funny</th>\n",
       "      <th>msglength</th>\n",
       "    </tr>\n",
       "  </thead>\n",
       "  <tbody>\n",
       "    <tr>\n",
       "      <th>0</th>\n",
       "      <td>n-Q7d10K0h6PyNewmiHLyg</td>\n",
       "      <td>2011-04-04</td>\n",
       "      <td>N3Ut6LtL3lIOfTZDNzR-AA</td>\n",
       "      <td>Phoenix Muni is a great stadium to see Oakland...</td>\n",
       "      <td>4</td>\n",
       "      <td>review</td>\n",
       "      <td>gVgbIRT9mJkeWSAzBA9i6g</td>\n",
       "      <td>0</td>\n",
       "      <td>2</td>\n",
       "      <td>0</td>\n",
       "      <td>717</td>\n",
       "    </tr>\n",
       "    <tr>\n",
       "      <th>1</th>\n",
       "      <td>NKMyRG-hK6_HNMlckY7Hxw</td>\n",
       "      <td>2012-05-14</td>\n",
       "      <td>0MAj6HuvWTlvvg428kPloQ</td>\n",
       "      <td>I came here for the first time ever on Mother'...</td>\n",
       "      <td>5</td>\n",
       "      <td>review</td>\n",
       "      <td>F6QsMoJdvtohlbnST-fDyQ</td>\n",
       "      <td>1</td>\n",
       "      <td>2</td>\n",
       "      <td>2</td>\n",
       "      <td>915</td>\n",
       "    </tr>\n",
       "    <tr>\n",
       "      <th>2</th>\n",
       "      <td>RFeDe3fNr14kvUKlVx6_4w</td>\n",
       "      <td>2010-06-15</td>\n",
       "      <td>G2OVqZAkNl5OBrzeTrX8hA</td>\n",
       "      <td>This was the first Thai I have had and it did ...</td>\n",
       "      <td>4</td>\n",
       "      <td>review</td>\n",
       "      <td>Qz_WQ6blpBBSaEwsofbB_w</td>\n",
       "      <td>0</td>\n",
       "      <td>1</td>\n",
       "      <td>0</td>\n",
       "      <td>838</td>\n",
       "    </tr>\n",
       "    <tr>\n",
       "      <th>3</th>\n",
       "      <td>YKOvlBNkF4KpUP9q7x862w</td>\n",
       "      <td>2009-03-04</td>\n",
       "      <td>ES4-S0n_LN5PmtJHmiwf8g</td>\n",
       "      <td>I was toying with the idea of going on the wag...</td>\n",
       "      <td>4</td>\n",
       "      <td>review</td>\n",
       "      <td>gvXV0RHOxI_WhT91LMPNNQ</td>\n",
       "      <td>3</td>\n",
       "      <td>2</td>\n",
       "      <td>2</td>\n",
       "      <td>617</td>\n",
       "    </tr>\n",
       "    <tr>\n",
       "      <th>4</th>\n",
       "      <td>itpHJcXW0PXNsdTbbKMfpA</td>\n",
       "      <td>2012-09-30</td>\n",
       "      <td>RFcu-xmzE52r93kIO4CeEg</td>\n",
       "      <td>I love my eye doctor!  Platonically, of course...</td>\n",
       "      <td>5</td>\n",
       "      <td>review</td>\n",
       "      <td>lKze8Z4vzqgN5R8Bq8F_vA</td>\n",
       "      <td>0</td>\n",
       "      <td>0</td>\n",
       "      <td>0</td>\n",
       "      <td>1137</td>\n",
       "    </tr>\n",
       "  </tbody>\n",
       "</table>\n",
       "</div>"
      ],
      "text/plain": [
       "              business_id        date               review_id  \\\n",
       "0  n-Q7d10K0h6PyNewmiHLyg  2011-04-04  N3Ut6LtL3lIOfTZDNzR-AA   \n",
       "1  NKMyRG-hK6_HNMlckY7Hxw  2012-05-14  0MAj6HuvWTlvvg428kPloQ   \n",
       "2  RFeDe3fNr14kvUKlVx6_4w  2010-06-15  G2OVqZAkNl5OBrzeTrX8hA   \n",
       "3  YKOvlBNkF4KpUP9q7x862w  2009-03-04  ES4-S0n_LN5PmtJHmiwf8g   \n",
       "4  itpHJcXW0PXNsdTbbKMfpA  2012-09-30  RFcu-xmzE52r93kIO4CeEg   \n",
       "\n",
       "                                                text  stars    type  \\\n",
       "0  Phoenix Muni is a great stadium to see Oakland...      4  review   \n",
       "1  I came here for the first time ever on Mother'...      5  review   \n",
       "2  This was the first Thai I have had and it did ...      4  review   \n",
       "3  I was toying with the idea of going on the wag...      4  review   \n",
       "4  I love my eye doctor!  Platonically, of course...      5  review   \n",
       "\n",
       "                  user_id  cool  useful  funny  msglength  \n",
       "0  gVgbIRT9mJkeWSAzBA9i6g     0       2      0        717  \n",
       "1  F6QsMoJdvtohlbnST-fDyQ     1       2      2        915  \n",
       "2  Qz_WQ6blpBBSaEwsofbB_w     0       1      0        838  \n",
       "3  gvXV0RHOxI_WhT91LMPNNQ     3       2      2        617  \n",
       "4  lKze8Z4vzqgN5R8Bq8F_vA     0       0      0       1137  "
      ]
     },
     "execution_count": 6,
     "metadata": {},
     "output_type": "execute_result"
    }
   ],
   "source": [
    "df[\"msglength\"] = df[\"text\"].apply(len)\n",
    "df.head()"
   ]
  },
  {
   "cell_type": "code",
   "execution_count": 7,
   "metadata": {},
   "outputs": [
    {
     "data": {
      "text/plain": [
       "[(0, 3000)]"
      ]
     },
     "execution_count": 7,
     "metadata": {},
     "output_type": "execute_result"
    },
    {
     "data": {
      "image/png": "[encoded data removed]",
      "text/plain": [
       "<Figure size 432x288 with 1 Axes>"
      ]
     },
     "metadata": {
      "needs_background": "light"
     },
     "output_type": "display_data"
    }
   ],
   "source": [
    "vplot = sns.violinplot(\"stars\",\"msglength\",data = df)\n",
    "vplot.set(ylim=(0, 3000))"
   ]
  },
  {
   "cell_type": "code",
   "execution_count": 8,
   "metadata": {},
   "outputs": [
    {
     "name": "stdout",
     "output_type": "stream",
     "text": [
      "Correlation coefficient between Message length and stars: -0.10737438801390016\n"
     ]
    }
   ],
   "source": [
    "corr = df.corr().loc['msglength','stars']\n",
    "print(\"Correlation coefficient between Message length and stars: \"+str(corr))"
   ]
  },
  {
   "cell_type": "code",
   "execution_count": 9,
   "metadata": {},
   "outputs": [
    {
     "data": {
      "text/plain": [
       "<matplotlib.axes._subplots.AxesSubplot at 0x1ac417d0ef0>"
      ]
     },
     "execution_count": 9,
     "metadata": {},
     "output_type": "execute_result"
    },
    {
     "data": {
      "image/png": "[encoded data removed]",
      "text/plain": [
       "<Figure size 432x288 with 1 Axes>"
      ]
     },
     "metadata": {
      "needs_background": "light"
     },
     "output_type": "display_data"
    }
   ],
   "source": [
    "sns.countplot(df[\"stars\"])"
   ]
  },
  {
   "cell_type": "code",
   "execution_count": 10,
   "metadata": {},
   "outputs": [
    {
     "data": {
      "text/plain": [
       "0    Phoenix Muni is a great stadium to see Oakland...\n",
       "1    I came here for the first time ever on Mother'...\n",
       "2    This was the first Thai I have had and it did ...\n",
       "3    I was toying with the idea of going on the wag...\n",
       "4    I love my eye doctor!  Platonically, of course...\n",
       "Name: text, dtype: object"
      ]
     },
     "execution_count": 10,
     "metadata": {},
     "output_type": "execute_result"
    }
   ],
   "source": [
    "x = df[\"text\"]\n",
    "y = df[\"stars\"]\n",
    "x[0:5]"
   ]
  },
  {
   "cell_type": "code",
   "execution_count": 11,
   "metadata": {},
   "outputs": [
    {
     "data": {
      "text/plain": [
       "<matplotlib.image.AxesImage at 0x1ac44f434a8>"
      ]
     },
     "execution_count": 11,
     "metadata": {},
     "output_type": "execute_result"
    },
    {
     "data": {
      "image/png": "[encoded data removed]",
      "text/plain": [
       "<Figure size 720x720 with 1 Axes>"
      ]
     },
     "metadata": {
      "needs_background": "light"
     },
     "output_type": "display_data"
    }
   ],
   "source": [
    "from wordcloud import WordCloud\n",
    "positive_list = [word for line in x for word in line.split()]\n",
    "positive_cloud = WordCloud(\n",
    "    background_color='black',\n",
    "    max_words=50,\n",
    "    max_font_size=40, \n",
    "    scale=5,\n",
    "    random_state=1,\n",
    "    collocations=False,\n",
    "    normalize_plurals=False\n",
    ").generate(' '.join(positive_list))\n",
    "plt.figure(figsize=(10,10))\n",
    "plt.imshow(positive_cloud)"
   ]
  },
  {
   "cell_type": "code",
   "execution_count": 12,
   "metadata": {},
   "outputs": [
    {
     "data": {
      "text/plain": [
       "<5x26414 sparse matrix of type '<class 'numpy.int64'>'\n",
       "\twith 508 stored elements in Compressed Sparse Row format>"
      ]
     },
     "execution_count": 12,
     "metadata": {},
     "output_type": "execute_result"
    }
   ],
   "source": [
    "from sklearn.feature_extraction.text import CountVectorizer\n",
    "cv = CountVectorizer()\n",
    "x = cv.fit_transform(x)\n",
    "x[0:5]"
   ]
  },
  {
   "cell_type": "code",
   "execution_count": 13,
   "metadata": {},
   "outputs": [],
   "source": [
    "from sklearn.naive_bayes import MultinomialNB\n",
    "nb = MultinomialNB()"
   ]
  },
  {
   "cell_type": "code",
   "execution_count": 14,
   "metadata": {},
   "outputs": [
    {
     "data": {
      "text/plain": [
       "MultinomialNB(alpha=1.0, class_prior=None, fit_prior=True)"
      ]
     },
     "execution_count": 14,
     "metadata": {},
     "output_type": "execute_result"
    }
   ],
   "source": [
    "nb.fit(x,y)"
   ]
  },
  {
   "cell_type": "code",
   "execution_count": 15,
   "metadata": {},
   "outputs": [],
   "source": [
    "from sklearn.linear_model import LogisticRegression"
   ]
  },
  {
   "cell_type": "code",
   "execution_count": 16,
   "metadata": {},
   "outputs": [],
   "source": [
    "clf = LogisticRegression(random_state=0, multi_class='multinomial', solver='newton-cg')"
   ]
  },
  {
   "cell_type": "code",
   "execution_count": 17,
   "metadata": {},
   "outputs": [],
   "source": [
    "model = clf.fit(x, y)"
   ]
  },
  {
   "cell_type": "code",
   "execution_count": 18,
   "metadata": {},
   "outputs": [],
   "source": [
    "from sklearn.svm import SVC \n",
    "svm_model_linear = SVC(kernel = 'linear', C = 1).fit(x, y) "
   ]
  },
  {
   "cell_type": "code",
   "execution_count": 19,
   "metadata": {},
   "outputs": [
    {
     "data": {
      "text/html": [
       "<div>\n",
       "<style scoped>\n",
       "    .dataframe tbody tr th:only-of-type {\n",
       "        vertical-align: middle;\n",
       "    }\n",
       "\n",
       "    .dataframe tbody tr th {\n",
       "        vertical-align: top;\n",
       "    }\n",
       "\n",
       "    .dataframe thead th {\n",
       "        text-align: right;\n",
       "    }\n",
       "</style>\n",
       "<table border=\"1\" class=\"dataframe\">\n",
       "  <thead>\n",
       "    <tr style=\"text-align: right;\">\n",
       "      <th></th>\n",
       "      <th>Unnamed: 0</th>\n",
       "      <th>business_id</th>\n",
       "      <th>date</th>\n",
       "      <th>review_id</th>\n",
       "      <th>stars</th>\n",
       "      <th>text</th>\n",
       "      <th>type</th>\n",
       "      <th>user_id</th>\n",
       "      <th>cool</th>\n",
       "      <th>useful</th>\n",
       "      <th>funny</th>\n",
       "    </tr>\n",
       "  </thead>\n",
       "  <tbody>\n",
       "    <tr>\n",
       "      <th>0</th>\n",
       "      <td>0</td>\n",
       "      <td>UFfYVoK3RwDVo9eb70Fh9w</td>\n",
       "      <td>19-10-2007</td>\n",
       "      <td>C-reF7nMYNitSPknENhr-g</td>\n",
       "      <td>4</td>\n",
       "      <td>Creamy, luscious, divine...just some of the wo...</td>\n",
       "      <td>review</td>\n",
       "      <td>1S7XdhbZWR17Wy4TBsIzaw</td>\n",
       "      <td>2</td>\n",
       "      <td>2</td>\n",
       "      <td>0</td>\n",
       "    </tr>\n",
       "    <tr>\n",
       "      <th>1</th>\n",
       "      <td>1</td>\n",
       "      <td>ke3RFq3mHEAoJE_kkRNhiQ</td>\n",
       "      <td>21-07-2012</td>\n",
       "      <td>W2E-KyisRMC5fuih1AjTlA</td>\n",
       "      <td>4</td>\n",
       "      <td>I found this place when we needed a place to m...</td>\n",
       "      <td>review</td>\n",
       "      <td>lAngRi4lwBIHmjCBVLd-8Q</td>\n",
       "      <td>0</td>\n",
       "      <td>2</td>\n",
       "      <td>0</td>\n",
       "    </tr>\n",
       "    <tr>\n",
       "      <th>2</th>\n",
       "      <td>2</td>\n",
       "      <td>pQ3kRVmttsV1bHxuTf7TAg</td>\n",
       "      <td>24-03-2010</td>\n",
       "      <td>OyisBZlWvyjZNXF_T5zOLw</td>\n",
       "      <td>4</td>\n",
       "      <td>Love this place.  Great selection of beers, ch...</td>\n",
       "      <td>review</td>\n",
       "      <td>IJKdg7KSekmIm_6LJsfvUw</td>\n",
       "      <td>0</td>\n",
       "      <td>0</td>\n",
       "      <td>0</td>\n",
       "    </tr>\n",
       "    <tr>\n",
       "      <th>3</th>\n",
       "      <td>3</td>\n",
       "      <td>8m08a9xJKmANwmeuR-0bPA</td>\n",
       "      <td>07-09-2011</td>\n",
       "      <td>k_irkIDyZ9_bDeE4J29u0g</td>\n",
       "      <td>4</td>\n",
       "      <td>I went here last night with my wife to celebra...</td>\n",
       "      <td>review</td>\n",
       "      <td>rLtl8ZkDX5vH5nAx9C3q5Q</td>\n",
       "      <td>1</td>\n",
       "      <td>3</td>\n",
       "      <td>1</td>\n",
       "    </tr>\n",
       "    <tr>\n",
       "      <th>4</th>\n",
       "      <td>4</td>\n",
       "      <td>Bc4DoKgrKCtCuN-0O5He3A</td>\n",
       "      <td>26-05-2011</td>\n",
       "      <td>JE4qCKrv0447TJ6JN5wzOw</td>\n",
       "      <td>5</td>\n",
       "      <td>WOW! Carmel sundae was amazing!</td>\n",
       "      <td>review</td>\n",
       "      <td>ADMub7n217L0nKnUm_liUQ</td>\n",
       "      <td>3</td>\n",
       "      <td>0</td>\n",
       "      <td>0</td>\n",
       "    </tr>\n",
       "  </tbody>\n",
       "</table>\n",
       "</div>"
      ],
      "text/plain": [
       "   Unnamed: 0             business_id        date               review_id  \\\n",
       "0           0  UFfYVoK3RwDVo9eb70Fh9w  19-10-2007  C-reF7nMYNitSPknENhr-g   \n",
       "1           1  ke3RFq3mHEAoJE_kkRNhiQ  21-07-2012  W2E-KyisRMC5fuih1AjTlA   \n",
       "2           2  pQ3kRVmttsV1bHxuTf7TAg  24-03-2010  OyisBZlWvyjZNXF_T5zOLw   \n",
       "3           3  8m08a9xJKmANwmeuR-0bPA  07-09-2011  k_irkIDyZ9_bDeE4J29u0g   \n",
       "4           4  Bc4DoKgrKCtCuN-0O5He3A  26-05-2011  JE4qCKrv0447TJ6JN5wzOw   \n",
       "\n",
       "   stars                                               text    type  \\\n",
       "0      4  Creamy, luscious, divine...just some of the wo...  review   \n",
       "1      4  I found this place when we needed a place to m...  review   \n",
       "2      4  Love this place.  Great selection of beers, ch...  review   \n",
       "3      4  I went here last night with my wife to celebra...  review   \n",
       "4      5                    WOW! Carmel sundae was amazing!  review   \n",
       "\n",
       "                  user_id  cool  useful  funny  \n",
       "0  1S7XdhbZWR17Wy4TBsIzaw     2       2      0  \n",
       "1  lAngRi4lwBIHmjCBVLd-8Q     0       2      0  \n",
       "2  IJKdg7KSekmIm_6LJsfvUw     0       0      0  \n",
       "3  rLtl8ZkDX5vH5nAx9C3q5Q     1       3      1  \n",
       "4  ADMub7n217L0nKnUm_liUQ     3       0      0  "
      ]
     },
     "execution_count": 19,
     "metadata": {},
     "output_type": "execute_result"
    }
   ],
   "source": [
    "df1 = pd.read_csv(\"test.csv\")\n",
    "df1.head()"
   ]
  },
  {
   "cell_type": "code",
   "execution_count": 20,
   "metadata": {},
   "outputs": [
    {
     "data": {
      "text/plain": [
       "(1000, 11)"
      ]
     },
     "execution_count": 20,
     "metadata": {},
     "output_type": "execute_result"
    }
   ],
   "source": [
    "df1.shape"
   ]
  },
  {
   "cell_type": "code",
   "execution_count": 21,
   "metadata": {},
   "outputs": [
    {
     "data": {
      "text/plain": [
       "0    Creamy, luscious, divine...just some of the wo...\n",
       "1    I found this place when we needed a place to m...\n",
       "2    Love this place.  Great selection of beers, ch...\n",
       "3    I went here last night with my wife to celebra...\n",
       "4                      WOW! Carmel sundae was amazing!\n",
       "Name: text, dtype: object"
      ]
     },
     "execution_count": 21,
     "metadata": {},
     "output_type": "execute_result"
    }
   ],
   "source": [
    "x1 = df1[\"text\"]\n",
    "y1 = df1[\"stars\"]\n",
    "x1[0:5]"
   ]
  },
  {
   "cell_type": "code",
   "execution_count": 22,
   "metadata": {},
   "outputs": [],
   "source": [
    "x1 = cv.transform(x1)"
   ]
  },
  {
   "cell_type": "code",
   "execution_count": 23,
   "metadata": {},
   "outputs": [],
   "source": [
    "from sklearn.metrics import confusion_matrix,accuracy_score"
   ]
  },
  {
   "cell_type": "code",
   "execution_count": 24,
   "metadata": {},
   "outputs": [],
   "source": [
    "predictions = nb.predict(x1)"
   ]
  },
  {
   "cell_type": "code",
   "execution_count": 25,
   "metadata": {},
   "outputs": [],
   "source": [
    "predLog = model.predict(x1)"
   ]
  },
  {
   "cell_type": "code",
   "execution_count": 26,
   "metadata": {},
   "outputs": [],
   "source": [
    "svm_predictions = svm_model_linear.predict(x1)"
   ]
  },
  {
   "cell_type": "code",
   "execution_count": 27,
   "metadata": {},
   "outputs": [],
   "source": [
    "def most_common(lst):\n",
    "    return max(set(lst), key=lst.count)"
   ]
  },
  {
   "cell_type": "code",
   "execution_count": 28,
   "metadata": {},
   "outputs": [],
   "source": [
    "y_finalpred = []"
   ]
  },
  {
   "cell_type": "code",
   "execution_count": 29,
   "metadata": {},
   "outputs": [],
   "source": [
    "for i in range(len(predictions)):\n",
    "    arr = [predictions[i],predLog[i],svm_predictions[i]]\n",
    "    y_finalpred.append(most_common(arr))"
   ]
  },
  {
   "cell_type": "code",
   "execution_count": 30,
   "metadata": {},
   "outputs": [
    {
     "data": {
      "text/plain": [
       "array([[ 59,   2,   0,   1,   0],\n",
       "       [  3,  71,   1,   1,   1],\n",
       "       [  3,   9,  82,   3,   0],\n",
       "       [  0,   2,   3, 368,   4],\n",
       "       [  2,   3,   4,  13, 365]], dtype=int64)"
      ]
     },
     "execution_count": 30,
     "metadata": {},
     "output_type": "execute_result"
    }
   ],
   "source": [
    "confusion_matrix(y1,y_finalpred)"
   ]
  },
  {
   "cell_type": "code",
   "execution_count": 49,
   "metadata": {},
   "outputs": [
    {
     "name": "stdout",
     "output_type": "stream",
     "text": [
      "Accuracy - 94.5%\n"
     ]
    }
   ],
   "source": [
    "acc = accuracy_score(y1,y_finalpred)*100\n",
    "print(\"Accuracy - \"+str(acc)+\"%\")"
   ]
  },
  {
   "cell_type": "code",
   "execution_count": 32,
   "metadata": {},
   "outputs": [
    {
     "name": "stdout",
     "output_type": "stream",
     "text": [
      "{'0': {'title': 'Memory cushioning in these shoes is the best feature!', 'comment': 'I had purchased Asian brand shoes earlier for walking. They were not fitting properly so i returned them and purchased these shoes. I have to say, these are way better in terms of cushioning and fitting. No more strain to the foot while walking/running.'}, '1': {'title': 'Poor quality product', 'comment': 'this is very poor quality product and total waste of money. Soul is very thin and almost feels like my feet are touching the floor. The inside part of the shoe has thin layer which is not even pasted and cardboard underneath is directly visible.Disgusting quality.'}, '2': {'title': 'Memory cushioning in these shoes is the best feature!', 'comment': \"I used to gym daily. This is the best fit for gym especially running on treadmill.I'm using for office also. Very light weight.Easy to wear. Just go for it\"}, '3': {'title': 'Poor quality product', 'comment': 'Awesome product..The appearance was very good..Weightless..'}, '4': {'title': 'Best for gym n sports', 'comment': \"Product was delivered today as promised one day delivery .  Looks exactly in the picture. I've ordered size 10 and it fits perfectly.  Inside foam is good while walking. Will update my review after i use it frequently .. Thanks\"}, '5': {'title': 'Must must must buy', 'comment': 'Very good as expected'}, '6': {'title': 'Worth for this price', 'comment': 'This is the Second shoe of same brand, the sole is too good for old age people and gives a light weight feel while walking.'}, '7': {'title': 'Satisfied', 'comment': 'Color is bit not as expected but quality and fits perfectly.This is my 2nd purchase with same brand and will be doing more.Must try once.'}, '8': {'title': 'Please try this shoe', 'comment': 'Good. But, a bit oversized. Believing the description that it \"fits\" exactly, I ordered my size viz. UK/India 7. But, there\\'s a bit of space that results in my ankles paining after every walk. But, inside is comfortable and bottom sole is sturdy. After using 8t for a couple of days, I did not think it right to return and demand reolacement. So, continued to use. I think I have to put on weight to fit :).Rate is highly reasonable. So, no qualms. Quality of shoes also nice only'}, '9': {'title': 'Very good for heels. Comfy cushion', 'comment': \"You're Awesome Amazon Thank You Sooooooooooo Much For Giving The Best Offer'sYou're Review is 100 out of 100\"}, '10': {'title': 'Good looking,good quality, not exact fit, a bit over sized.', 'comment': 'My foot started aching after a day of use.. If you would want to hurt your feet, then go ahead and buy it. Having said that what we pay is what we get..'}, '11': {'title': 'Awesome Amazon Awesome', 'comment': 'This is really very good and very comfortable for long time wearing but one thing that makes me feel disappointed about this product is front part of this shoe. It seems bad glueing in front part otherwise it is really very comfortable shoes you can wear it for a long time without any problem.I will recommend it due to 90days Warranty provided by brand.'}, '12': {'title': 'Memory cushioning in these shoes is the best feature!', 'comment': 'Easy to put on and remove. Has good grip on the outer sole. Shoes are ideal for elderly people due to extra spongy cushion in the insole. Overall great value for money shoes.'}, '13': {'title': 'Poor quality product', 'comment': \"Worst shoes. Got damaged within one month. Amazon customer care also don't know the procedure of warranty claiming. Product is not eligible for one star also.\"}, '14': {'title': 'Shoe that makes my foot cry', 'comment': 'Received Exact Size Which is Ordered By Me, Fits Perfectly. Look and Finishing is Charming for This Price. Really Light Weight As Per Description. Hearty Thanks to The Seller and Amazon for Two Day Delivery ❤️I Love It 🥰'}, '15': {'title': '90 days warranty and comfortable sole is best thing of this product', 'comment': 'K kind but not tat comfortable'}, '16': {'title': 'Superb product at a very reasonable price', 'comment': 'Delivery time - 5/5Package - 2/5This product quality - 4/5This product condition - new 5/5Description and information - 4/5Comfort - 4/5Fit - 4/5Value for money - 5/5Overall 4/5'}, '17': {'title': 'Waste of money', 'comment': '✔️The overall product quality looks good✔️Outer build quality is good✔️ Truly comfortable for the reason it has cushion like feel✔️Soft cushion inside shoes , gives extra edge as a grip with socks❎ The design quality and shape can drag the shoes back while jogging or running at extreme speed❎The shoes is not built for running , jogging✔️Buy the product only if you are using it as shoes for office , brisk walk and as casual wears for party❎ For running or jogging we need smooth sole so we do not get ankle pain . The product is not fit in this case❎ The shoes has elastic which will not give complete grip as shoes with laces✨To sum up the shoes is only for brisk walk  , causual wears and not for running , jogging etc'}, '18': {'title': 'Fantastic Shoe for ₹499', 'comment': 'Manufacturing defect....Left side confort  but right side fully defect....😡Bad... Bad...  Very bad... 😡Seller is bad work...😡My money lost... 😡'}, '19': {'title': 'K k kind', 'comment': 'What i received is an used product..there is mud on the bottom of the shoe... i dont know what kind of responsibility you are having... feel pitty on amazon...!!!!'}, '20': {'title': 'Good shoes', 'comment': \"I was surprised to find a pair of running shoes at this price point. Initial impressions were good, but after a few weeks, they have worn off pretty quickly.The main issue is that the foam inside detaches from the inside and just clumps at the bottom. You have to pull it up or it feels very uncomfortable. Also the loops at the back are comically small and unusable to pull them up relying on you to have to push your feet in which pushes the foam down again.On the plus side, the memory foam soles are nice, and are on par with those of shoes at 3 times the price range.  The best way to think of them would be that you're buying a pair of memory foam insoles and you're getting a pair of questionable quality sneakers free with themOh well. Back to the branded stuff\"}, '21': {'title': 'Good for walk but not suitable for running , jogging', 'comment': \"Personally I'm not very fond of shoes with laces, and prefer slip on shoes, due to ease of wearing. Recently, doctor prescribed me to wear shoes with laces, or slip ons with additional support. I personally liked the design of this shoe hoping that it will hold my foot with a firm grip, and didn't go with other renowned brands. However,1. The size of the shoe is very confusing, I usually wear size 10, but neither 9 nor 10 fits me. Exchanged wrong sizes twice, but still the comfort is not up to the mark.2. The strap doesn't serve the purpose of tightening/gripping the foot and is merely for look.Buying this seems shoes to be a mistake.Don't get fooled by low price.\"}, '22': {'title': 'Manufacturing defect..😡 money lost....😡', 'comment': 'The built quality is good however the size is too small. So if you need size 8, please order for size 9 and likewise'}, '23': {'title': 'Used product', 'comment': \"Love these shoes, bought for 529/-. I need to wear them for 16 hours without sitting and these shoes were very comfortable. Better than puma/reebok/Adidas etc. I bought it earlier.The only downside is they are very cold in winters. No winter water/protection.Edit: I have seen many 1* reviews. mine are still going strong, they don't look as premium quality as branded shoes but I love them because of the extended comfort I get from them\"}, '24': {'title': 'Memory cushioning in these shoes is the best feature!', 'comment': '...nice product....light weight.....meet experience as expected.'}, '25': {'title': 'Poor quality product', 'comment': 'The product quality is too cheap, not at all running friendly,After 1 month of use review.Pros :1. Easy to wear,2. Light weight.Cons:1. Not at all running friendly.2. As mentioned it is uk size 8. But it is a larger size. So product as per quality deserve not more than 250.3. As material used at the top is low grade.Cleaning is not at all possible.4. Its look like the used card board kind of material inside the shoes.Which is not at all worth 100 even.'}, '26': {'title': 'You get what you pay for.', 'comment': 'The material inside is very rough. Be sure to wear socks, else you can get shoe bites very easily. The soul is not very stiff, feels like cheap cushion The insole will also not last.  Over all this is not worth more than a sale price. Better to avoid this design. Colour, pattern and fit are are good though ( ie what ever appears on screen).'}, '27': {'title': 'First Measure, Then Buy', 'comment': 'Very light weight with extra comfort.. feel like flying when we walk. It’s in good shape, color is good and same , good fit.. first feel like too tight to slip in but after 2-5 times it free to fit in and feels very good too. Highly recommended. See the picture for your final decision.'}, '28': {'title': 'Too small', 'comment': 'MANUFACTUREING DEFECT BOTH SHOES ARE NOT OF SAME MEASUREMENTS. WORE FOR 3 DAYS AND KEPT ASIDE AS IT IS BADLY HURTING THE LITTLE  FINGER ON RIGHT FOOT CAUSING CHANGE OF GAIT OF WALK AND THERE BY OTHER PROBLEMS BY CHANGING THE NORMAL WALKING GAIT. THANK YOU.'}, '29': {'title': 'Very Comfortable in Summers.', 'comment': 'Better than looked in the photo...Overwhelmed material without any nuisance...Very satisfied with the product...'}, '30': {'title': 'Very good product.', 'comment': \"The back cushions was so hard that rubbed my foot skin, even after week of use it doesn't softened.And worsening the thing the one side cushion now moved the place as shown in picture and it didn't restoring on its original place.Very pathetic product I get. I couldn't return it in time so I have to use it any how.Suggestions to all future buyer don't expect that product will be fine after some days, return it immediately\"}, '31': {'title': 'Quality of product is really disgusting', 'comment': \"I purchased it for my father who wants a shoes in which he didn't have to tie the knot all the time. His slip-in shoes were also not comfortable. So this one came as a nice fit as he can use the velcro strap. Its light on legs and very comfy.\"}, '32': {'title': 'Feels too hot and can get shoe bites', 'comment': 'Good quality with memory foam comfort inside sole where most company do not provide it or try to save money on this, I have one more bought already next time also I will buy this.'}, '33': {'title': 'Good shoes,light weigh and got high 5', 'comment': \"According to fitting it is good but when comes usage it gives bad odours of sweat  even though I don't have sweating problem but this shoe have sponge that's why it give more swaet which in result of bad smell. So I suggest shoppers not to buy this shoe because in every 4 hours you have to change a pair of socks if not people will not come near to you.\"}, '34': {'title': 'Manufacturing defect', 'comment': 'Very good quality and finishing.Have been in shoe manufacturing in past so can say very well made and at a reasonable price.'}, '35': {'title': 'Thank you Amazon and BOURGE...', 'comment': \"The shoe is fitted with memory foam sole which is best for comfort. I gifted for my Dad and he loves it and says very comfortable for morning walk. Few of his friends also were interested. Hope it's durable and stays for few more months.\"}, '36': {'title': 'Memory cushioning in these shoes is the best feature!', 'comment': 'Its sasta sundar tikaw...At this price point we should not expect high, but still its good light weight, daily wear.Comfort wise little stiff, very light weight, good pasting overall average.As per my rating overall 3.5 out of 5.'}, '37': {'title': 'Poor quality product', 'comment': \"Comfort wise,  this pair was good... But,  not durable at all. The outer sole of one shoe got torn off within a week of moderate use. So had no option but to return.  Thanks to Amazon's easy return policy,  I got my money refunded as soon as I returned the product.\"}, '38': {'title': \"Pathetic product from renowned company, I wasn't expected at all\", 'comment': \"Not good not bad. It was nice in the beginning but later it's getting loose day by day. Comes with memory foam which is comfort. I used it for shuttle badminton outdoor. May be these shoes suitable for that. But overall price wise good purchase.\"}, '39': {'title': 'Excellent shoes', 'comment': 'Very Very Poor quality product. Foot Bridge and sole getting pain while walking wearing this. and can feel the poor quality at bottom by touching and by wearing. One star also not deserved for the price they are selling.'}, '40': {'title': 'Good quality at very good Price.', 'comment': 'The shoe has good padding but a very rigid sole, hence reduced flexibility. When out for a walk within 15 minutes of wearing, it feels like a heavy clog on your feet, so forget about running, even walking gets difficult.'}, '41': {'title': 'Worst buy', 'comment': 'This is very comfortable.I only wore it once.Bought it for my father and he is very happy with this ,he uses it for walking daily and he is satisfied so i guess it seems serving the purposeThumbs up for this ...go try ☺️'}, '42': {'title': 'Good Product', 'comment': 'Classic product... Walking shows..... Nice I like it.'}, '43': {'title': 'Wowww Memory Foam at this price', 'comment': 'Poor quality productthis is very poor quality product and total waste of money. Soul is very thin and almost feels like my feet are touching the floor. The inside part of the shoe has thin layer which is not even pasted and cardboard underneath is directly visible.Disgusting quality.'}, '44': {'title': 'Good option for daily & rough use at this price point', 'comment': \"Your browser does not support HTML5 video.          \\xa0Don't buy these shoes. The sole of the shoes have holes with in two months of wearing. Worst ever shoes. Amazon or Bourge should explain, why the sole deteriorated for a brand new pair so early? The shoes are used only for morning and evening walks not even running by my father.\"}, '45': {'title': 'Comfortable,  Stylish but non-durable.', 'comment': 'Good fit, very light weight. Padding is good. Size was as per the size chart. The buckle straps are velcro which is what I wanted as I like slip-on shoes. Overall quality is good. Value for money shoes.'}, '46': {'title': 'Good shoe but not durable', 'comment': 'Very good shoe all round.Very cofortable, light weight and fits perfect.Have walked for long durations and have found them WOW. The memory foam padding is very effective and an excellent provision in these shoes.Must buy as it is much much better than all Branded ones.'}, '47': {'title': 'Poor Quality', 'comment': \"This product is as good as its cost. If you're looking to use something under 6 months then go for it. I go to office, sit there and rarely get up for breaks. It's light weight and soft till now. But my usage is minimal and not for exercise. Don't expect more from it.It fits good. But sole is not good for gripping.\"}, '48': {'title': 'Memory cushioning in these shoes is the best feature!', 'comment': 'The shoe is pretty decent. I wore it for trekking so the build quality is good. The underside of the shoe is is the only downside of it. The sole got flat very fast making it  slippery on wet smooth surfaces.'}, '49': {'title': 'Poor quality product', 'comment': 'Great shoes to buy. Very good in fitting, comfortable for walking and jogging, and looks sturdy. The memory form gives extra cushion while walking. I would buy a few more pairs from the seller.'}}\n"
     ]
    }
   ],
   "source": [
    "import requests\n",
    "import json\n",
    "response = requests.get(\"http://amazonreviews.herokuapp.com/find/?url=https://www.amazon.in/Bourge-Loire-63-Running-Shoes-9-Loire-63-D-Grey-09/dp/B07MPZ1B3C/ref=sr_1_1?dchild=1&pf_rd_i=1983518031&pf_rd_m=A1VBAL9TL5WCBF&pf_rd_p=b8302fe4-3f0c-4b7b-a1fa-4fd1d8135ef9&pf_rd_r=T6ERRQETRHD9WJCZ1ZE7&pf_rd_s=merchandised-search-6&qid=1618578195&s=shoes&sr=1-1\")\n",
    "print(response.json())"
   ]
  },
  {
   "cell_type": "code",
   "execution_count": 33,
   "metadata": {},
   "outputs": [
    {
     "data": {
      "text/plain": [
       "['I had purchased Asian brand shoes earlier for walking. They were not fitting properly so i returned them and purchased these shoes. I have to say, these are way better in terms of cushioning and fitting. No more strain to the foot while walking/running.',\n",
       " 'this is very poor quality product and total waste of money. Soul is very thin and almost feels like my feet are touching the floor. The inside part of the shoe has thin layer which is not even pasted and cardboard underneath is directly visible.Disgusting quality.',\n",
       " \"I used to gym daily. This is the best fit for gym especially running on treadmill.I'm using for office also. Very light weight.Easy to wear. Just go for it\",\n",
       " 'Awesome product..The appearance was very good..Weightless..',\n",
       " \"Product was delivered today as promised one day delivery .  Looks exactly in the picture. I've ordered size 10 and it fits perfectly.  Inside foam is good while walking. Will update my review after i use it frequently .. Thanks\"]"
      ]
     },
     "execution_count": 33,
     "metadata": {},
     "output_type": "execute_result"
    }
   ],
   "source": [
    "data = []\n",
    "for i in response.json().keys():\n",
    "    data.append(response.json()[i]['comment'])\n",
    "data[0:5]"
   ]
  },
  {
   "cell_type": "code",
   "execution_count": 34,
   "metadata": {
    "scrolled": true
   },
   "outputs": [
    {
     "data": {
      "text/html": [
       "<div>\n",
       "<style scoped>\n",
       "    .dataframe tbody tr th:only-of-type {\n",
       "        vertical-align: middle;\n",
       "    }\n",
       "\n",
       "    .dataframe tbody tr th {\n",
       "        vertical-align: top;\n",
       "    }\n",
       "\n",
       "    .dataframe thead th {\n",
       "        text-align: right;\n",
       "    }\n",
       "</style>\n",
       "<table border=\"1\" class=\"dataframe\">\n",
       "  <thead>\n",
       "    <tr style=\"text-align: right;\">\n",
       "      <th></th>\n",
       "      <th>Reviews</th>\n",
       "    </tr>\n",
       "  </thead>\n",
       "  <tbody>\n",
       "    <tr>\n",
       "      <th>0</th>\n",
       "      <td>I had purchased Asian brand shoes earlier for ...</td>\n",
       "    </tr>\n",
       "    <tr>\n",
       "      <th>1</th>\n",
       "      <td>this is very poor quality product and total wa...</td>\n",
       "    </tr>\n",
       "    <tr>\n",
       "      <th>2</th>\n",
       "      <td>I used to gym daily. This is the best fit for ...</td>\n",
       "    </tr>\n",
       "    <tr>\n",
       "      <th>3</th>\n",
       "      <td>Awesome product..The appearance was very good....</td>\n",
       "    </tr>\n",
       "    <tr>\n",
       "      <th>4</th>\n",
       "      <td>Product was delivered today as promised one da...</td>\n",
       "    </tr>\n",
       "    <tr>\n",
       "      <th>5</th>\n",
       "      <td>Very good as expected</td>\n",
       "    </tr>\n",
       "    <tr>\n",
       "      <th>6</th>\n",
       "      <td>This is the Second shoe of same brand, the sol...</td>\n",
       "    </tr>\n",
       "    <tr>\n",
       "      <th>7</th>\n",
       "      <td>Color is bit not as expected but quality and f...</td>\n",
       "    </tr>\n",
       "    <tr>\n",
       "      <th>8</th>\n",
       "      <td>Good. But, a bit oversized. Believing the desc...</td>\n",
       "    </tr>\n",
       "    <tr>\n",
       "      <th>9</th>\n",
       "      <td>You're Awesome Amazon Thank You Sooooooooooo M...</td>\n",
       "    </tr>\n",
       "  </tbody>\n",
       "</table>\n",
       "</div>"
      ],
      "text/plain": [
       "                                             Reviews\n",
       "0  I had purchased Asian brand shoes earlier for ...\n",
       "1  this is very poor quality product and total wa...\n",
       "2  I used to gym daily. This is the best fit for ...\n",
       "3  Awesome product..The appearance was very good....\n",
       "4  Product was delivered today as promised one da...\n",
       "5                              Very good as expected\n",
       "6  This is the Second shoe of same brand, the sol...\n",
       "7  Color is bit not as expected but quality and f...\n",
       "8  Good. But, a bit oversized. Believing the desc...\n",
       "9  You're Awesome Amazon Thank You Sooooooooooo M..."
      ]
     },
     "execution_count": 34,
     "metadata": {},
     "output_type": "execute_result"
    }
   ],
   "source": [
    "amazonr = pd.DataFrame(data, columns = ['Reviews'])\n",
    "amazonr[0:10]"
   ]
  },
  {
   "cell_type": "code",
   "execution_count": 35,
   "metadata": {},
   "outputs": [
    {
     "data": {
      "text/plain": [
       "50"
      ]
     },
     "execution_count": 35,
     "metadata": {},
     "output_type": "execute_result"
    }
   ],
   "source": [
    "len(amazonr)"
   ]
  },
  {
   "cell_type": "code",
   "execution_count": 36,
   "metadata": {},
   "outputs": [
    {
     "data": {
      "text/plain": [
       "<50x26414 sparse matrix of type '<class 'numpy.int64'>'\n",
       "\twith 1686 stored elements in Compressed Sparse Row format>"
      ]
     },
     "execution_count": 36,
     "metadata": {},
     "output_type": "execute_result"
    }
   ],
   "source": [
    "amazont = cv.transform(amazonr['Reviews'])\n",
    "amazont"
   ]
  },
  {
   "cell_type": "code",
   "execution_count": 37,
   "metadata": {},
   "outputs": [],
   "source": [
    "amazonpredict = []"
   ]
  },
  {
   "cell_type": "code",
   "execution_count": 38,
   "metadata": {},
   "outputs": [],
   "source": [
    "predictions = nb.predict(amazont)"
   ]
  },
  {
   "cell_type": "code",
   "execution_count": 39,
   "metadata": {},
   "outputs": [],
   "source": [
    "predLog = model.predict(amazont)"
   ]
  },
  {
   "cell_type": "code",
   "execution_count": 40,
   "metadata": {},
   "outputs": [],
   "source": [
    "svm_predictions = svm_model_linear.predict(amazont)"
   ]
  },
  {
   "cell_type": "code",
   "execution_count": 41,
   "metadata": {},
   "outputs": [],
   "source": [
    "for i in range(len(predictions)):\n",
    "    arr = [predictions[i],predLog[i],svm_predictions[i]]\n",
    "    amazonpredict.append(most_common(arr))"
   ]
  },
  {
   "cell_type": "code",
   "execution_count": 42,
   "metadata": {},
   "outputs": [],
   "source": [
    "resultdf = pd.DataFrame({'Reviews':amazonr['Reviews'], 'Rating':amazonpredict})"
   ]
  },
  {
   "cell_type": "code",
   "execution_count": 43,
   "metadata": {},
   "outputs": [
    {
     "name": "stdout",
     "output_type": "stream",
     "text": [
      "Final Average Rating - 3.38\n"
     ]
    }
   ],
   "source": [
    "avgrating = sum(amazonpredict)/len(amazonr)\n",
    "print(\"Final Average Rating - \"+str(avgrating))"
   ]
  },
  {
   "cell_type": "code",
   "execution_count": 44,
   "metadata": {},
   "outputs": [
    {
     "data": {
      "text/plain": [
       "<matplotlib.axes._subplots.AxesSubplot at 0x1ac4a5ae240>"
      ]
     },
     "execution_count": 44,
     "metadata": {},
     "output_type": "execute_result"
    },
    {
     "data": {
      "image/png": "[encoded data removed]",
      "text/plain": [
       "<Figure size 432x288 with 1 Axes>"
      ]
     },
     "metadata": {
      "needs_background": "light"
     },
     "output_type": "display_data"
    }
   ],
   "source": [
    "sns.countplot(resultdf[\"Rating\"])"
   ]
  },
  {
   "cell_type": "code",
   "execution_count": 45,
   "metadata": {},
   "outputs": [
    {
     "data": {
      "text/html": [
       "<div>\n",
       "<style scoped>\n",
       "    .dataframe tbody tr th:only-of-type {\n",
       "        vertical-align: middle;\n",
       "    }\n",
       "\n",
       "    .dataframe tbody tr th {\n",
       "        vertical-align: top;\n",
       "    }\n",
       "\n",
       "    .dataframe thead th {\n",
       "        text-align: right;\n",
       "    }\n",
       "</style>\n",
       "<table border=\"1\" class=\"dataframe\">\n",
       "  <thead>\n",
       "    <tr style=\"text-align: right;\">\n",
       "      <th></th>\n",
       "      <th>Reviews</th>\n",
       "      <th>Rating</th>\n",
       "    </tr>\n",
       "  </thead>\n",
       "  <tbody>\n",
       "    <tr>\n",
       "      <th>0</th>\n",
       "      <td>I had purchased Asian brand shoes earlier for ...</td>\n",
       "      <td>5</td>\n",
       "    </tr>\n",
       "    <tr>\n",
       "      <th>1</th>\n",
       "      <td>this is very poor quality product and total wa...</td>\n",
       "      <td>1</td>\n",
       "    </tr>\n",
       "    <tr>\n",
       "      <th>2</th>\n",
       "      <td>I used to gym daily. This is the best fit for ...</td>\n",
       "      <td>4</td>\n",
       "    </tr>\n",
       "    <tr>\n",
       "      <th>3</th>\n",
       "      <td>Awesome product..The appearance was very good....</td>\n",
       "      <td>4</td>\n",
       "    </tr>\n",
       "    <tr>\n",
       "      <th>4</th>\n",
       "      <td>Product was delivered today as promised one da...</td>\n",
       "      <td>4</td>\n",
       "    </tr>\n",
       "    <tr>\n",
       "      <th>5</th>\n",
       "      <td>Very good as expected</td>\n",
       "      <td>4</td>\n",
       "    </tr>\n",
       "    <tr>\n",
       "      <th>6</th>\n",
       "      <td>This is the Second shoe of same brand, the sol...</td>\n",
       "      <td>4</td>\n",
       "    </tr>\n",
       "    <tr>\n",
       "      <th>7</th>\n",
       "      <td>Color is bit not as expected but quality and f...</td>\n",
       "      <td>4</td>\n",
       "    </tr>\n",
       "    <tr>\n",
       "      <th>8</th>\n",
       "      <td>Good. But, a bit oversized. Believing the desc...</td>\n",
       "      <td>4</td>\n",
       "    </tr>\n",
       "    <tr>\n",
       "      <th>9</th>\n",
       "      <td>You're Awesome Amazon Thank You Sooooooooooo M...</td>\n",
       "      <td>5</td>\n",
       "    </tr>\n",
       "    <tr>\n",
       "      <th>10</th>\n",
       "      <td>My foot started aching after a day of use.. If...</td>\n",
       "      <td>3</td>\n",
       "    </tr>\n",
       "    <tr>\n",
       "      <th>11</th>\n",
       "      <td>This is really very good and very comfortable ...</td>\n",
       "      <td>4</td>\n",
       "    </tr>\n",
       "    <tr>\n",
       "      <th>12</th>\n",
       "      <td>Easy to put on and remove. Has good grip on th...</td>\n",
       "      <td>4</td>\n",
       "    </tr>\n",
       "    <tr>\n",
       "      <th>13</th>\n",
       "      <td>Worst shoes. Got damaged within one month. Ama...</td>\n",
       "      <td>1</td>\n",
       "    </tr>\n",
       "    <tr>\n",
       "      <th>14</th>\n",
       "      <td>Received Exact Size Which is Ordered By Me, Fi...</td>\n",
       "      <td>5</td>\n",
       "    </tr>\n",
       "    <tr>\n",
       "      <th>15</th>\n",
       "      <td>K kind but not tat comfortable</td>\n",
       "      <td>4</td>\n",
       "    </tr>\n",
       "    <tr>\n",
       "      <th>16</th>\n",
       "      <td>Delivery time - 5/5Package - 2/5This product q...</td>\n",
       "      <td>5</td>\n",
       "    </tr>\n",
       "    <tr>\n",
       "      <th>17</th>\n",
       "      <td>✔️The overall product quality looks good✔️Oute...</td>\n",
       "      <td>2</td>\n",
       "    </tr>\n",
       "    <tr>\n",
       "      <th>18</th>\n",
       "      <td>Manufacturing defect....Left side confort  but...</td>\n",
       "      <td>1</td>\n",
       "    </tr>\n",
       "    <tr>\n",
       "      <th>19</th>\n",
       "      <td>What i received is an used product..there is m...</td>\n",
       "      <td>5</td>\n",
       "    </tr>\n",
       "    <tr>\n",
       "      <th>20</th>\n",
       "      <td>I was surprised to find a pair of running shoe...</td>\n",
       "      <td>4</td>\n",
       "    </tr>\n",
       "    <tr>\n",
       "      <th>21</th>\n",
       "      <td>Personally I'm not very fond of shoes with lac...</td>\n",
       "      <td>1</td>\n",
       "    </tr>\n",
       "    <tr>\n",
       "      <th>22</th>\n",
       "      <td>The built quality is good however the size is ...</td>\n",
       "      <td>3</td>\n",
       "    </tr>\n",
       "    <tr>\n",
       "      <th>23</th>\n",
       "      <td>Love these shoes, bought for 529/-. I need to ...</td>\n",
       "      <td>5</td>\n",
       "    </tr>\n",
       "    <tr>\n",
       "      <th>24</th>\n",
       "      <td>...nice product....light weight.....meet exper...</td>\n",
       "      <td>4</td>\n",
       "    </tr>\n",
       "    <tr>\n",
       "      <th>25</th>\n",
       "      <td>The product quality is too cheap, not at all r...</td>\n",
       "      <td>2</td>\n",
       "    </tr>\n",
       "    <tr>\n",
       "      <th>26</th>\n",
       "      <td>The material inside is very rough. Be sure to ...</td>\n",
       "      <td>1</td>\n",
       "    </tr>\n",
       "    <tr>\n",
       "      <th>27</th>\n",
       "      <td>Very light weight with extra comfort.. feel li...</td>\n",
       "      <td>5</td>\n",
       "    </tr>\n",
       "    <tr>\n",
       "      <th>28</th>\n",
       "      <td>MANUFACTUREING DEFECT BOTH SHOES ARE NOT OF SA...</td>\n",
       "      <td>4</td>\n",
       "    </tr>\n",
       "    <tr>\n",
       "      <th>29</th>\n",
       "      <td>Better than looked in the photo...Overwhelmed ...</td>\n",
       "      <td>4</td>\n",
       "    </tr>\n",
       "    <tr>\n",
       "      <th>30</th>\n",
       "      <td>The back cushions was so hard that rubbed my f...</td>\n",
       "      <td>1</td>\n",
       "    </tr>\n",
       "    <tr>\n",
       "      <th>31</th>\n",
       "      <td>I purchased it for my father who wants a shoes...</td>\n",
       "      <td>1</td>\n",
       "    </tr>\n",
       "    <tr>\n",
       "      <th>32</th>\n",
       "      <td>Good quality with memory foam comfort inside s...</td>\n",
       "      <td>5</td>\n",
       "    </tr>\n",
       "    <tr>\n",
       "      <th>33</th>\n",
       "      <td>According to fitting it is good but when comes...</td>\n",
       "      <td>2</td>\n",
       "    </tr>\n",
       "    <tr>\n",
       "      <th>34</th>\n",
       "      <td>Very good quality and finishing.Have been in s...</td>\n",
       "      <td>5</td>\n",
       "    </tr>\n",
       "    <tr>\n",
       "      <th>35</th>\n",
       "      <td>The shoe is fitted with memory foam sole which...</td>\n",
       "      <td>5</td>\n",
       "    </tr>\n",
       "    <tr>\n",
       "      <th>36</th>\n",
       "      <td>Its sasta sundar tikaw...At this price point w...</td>\n",
       "      <td>4</td>\n",
       "    </tr>\n",
       "    <tr>\n",
       "      <th>37</th>\n",
       "      <td>Comfort wise,  this pair was good... But,  not...</td>\n",
       "      <td>1</td>\n",
       "    </tr>\n",
       "    <tr>\n",
       "      <th>38</th>\n",
       "      <td>Not good not bad. It was nice in the beginning...</td>\n",
       "      <td>2</td>\n",
       "    </tr>\n",
       "    <tr>\n",
       "      <th>39</th>\n",
       "      <td>Very Very Poor quality product. Foot Bridge an...</td>\n",
       "      <td>1</td>\n",
       "    </tr>\n",
       "    <tr>\n",
       "      <th>40</th>\n",
       "      <td>The shoe has good padding but a very rigid sol...</td>\n",
       "      <td>5</td>\n",
       "    </tr>\n",
       "    <tr>\n",
       "      <th>41</th>\n",
       "      <td>This is very comfortable.I only wore it once.B...</td>\n",
       "      <td>4</td>\n",
       "    </tr>\n",
       "    <tr>\n",
       "      <th>42</th>\n",
       "      <td>Classic product... Walking shows..... Nice I l...</td>\n",
       "      <td>4</td>\n",
       "    </tr>\n",
       "    <tr>\n",
       "      <th>43</th>\n",
       "      <td>Poor quality productthis is very poor quality ...</td>\n",
       "      <td>1</td>\n",
       "    </tr>\n",
       "    <tr>\n",
       "      <th>44</th>\n",
       "      <td>Your browser does not support HTML5 video.    ...</td>\n",
       "      <td>1</td>\n",
       "    </tr>\n",
       "    <tr>\n",
       "      <th>45</th>\n",
       "      <td>Good fit, very light weight. Padding is good. ...</td>\n",
       "      <td>4</td>\n",
       "    </tr>\n",
       "    <tr>\n",
       "      <th>46</th>\n",
       "      <td>Very good shoe all round.Very cofortable, ligh...</td>\n",
       "      <td>5</td>\n",
       "    </tr>\n",
       "    <tr>\n",
       "      <th>47</th>\n",
       "      <td>This product is as good as its cost. If you're...</td>\n",
       "      <td>4</td>\n",
       "    </tr>\n",
       "    <tr>\n",
       "      <th>48</th>\n",
       "      <td>The shoe is pretty decent. I wore it for trekk...</td>\n",
       "      <td>3</td>\n",
       "    </tr>\n",
       "    <tr>\n",
       "      <th>49</th>\n",
       "      <td>Great shoes to buy. Very good in fitting, comf...</td>\n",
       "      <td>5</td>\n",
       "    </tr>\n",
       "  </tbody>\n",
       "</table>\n",
       "</div>"
      ],
      "text/plain": [
       "                                              Reviews  Rating\n",
       "0   I had purchased Asian brand shoes earlier for ...       5\n",
       "1   this is very poor quality product and total wa...       1\n",
       "2   I used to gym daily. This is the best fit for ...       4\n",
       "3   Awesome product..The appearance was very good....       4\n",
       "4   Product was delivered today as promised one da...       4\n",
       "5                               Very good as expected       4\n",
       "6   This is the Second shoe of same brand, the sol...       4\n",
       "7   Color is bit not as expected but quality and f...       4\n",
       "8   Good. But, a bit oversized. Believing the desc...       4\n",
       "9   You're Awesome Amazon Thank You Sooooooooooo M...       5\n",
       "10  My foot started aching after a day of use.. If...       3\n",
       "11  This is really very good and very comfortable ...       4\n",
       "12  Easy to put on and remove. Has good grip on th...       4\n",
       "13  Worst shoes. Got damaged within one month. Ama...       1\n",
       "14  Received Exact Size Which is Ordered By Me, Fi...       5\n",
       "15                     K kind but not tat comfortable       4\n",
       "16  Delivery time - 5/5Package - 2/5This product q...       5\n",
       "17  ✔️The overall product quality looks good✔️Oute...       2\n",
       "18  Manufacturing defect....Left side confort  but...       1\n",
       "19  What i received is an used product..there is m...       5\n",
       "20  I was surprised to find a pair of running shoe...       4\n",
       "21  Personally I'm not very fond of shoes with lac...       1\n",
       "22  The built quality is good however the size is ...       3\n",
       "23  Love these shoes, bought for 529/-. I need to ...       5\n",
       "24  ...nice product....light weight.....meet exper...       4\n",
       "25  The product quality is too cheap, not at all r...       2\n",
       "26  The material inside is very rough. Be sure to ...       1\n",
       "27  Very light weight with extra comfort.. feel li...       5\n",
       "28  MANUFACTUREING DEFECT BOTH SHOES ARE NOT OF SA...       4\n",
       "29  Better than looked in the photo...Overwhelmed ...       4\n",
       "30  The back cushions was so hard that rubbed my f...       1\n",
       "31  I purchased it for my father who wants a shoes...       1\n",
       "32  Good quality with memory foam comfort inside s...       5\n",
       "33  According to fitting it is good but when comes...       2\n",
       "34  Very good quality and finishing.Have been in s...       5\n",
       "35  The shoe is fitted with memory foam sole which...       5\n",
       "36  Its sasta sundar tikaw...At this price point w...       4\n",
       "37  Comfort wise,  this pair was good... But,  not...       1\n",
       "38  Not good not bad. It was nice in the beginning...       2\n",
       "39  Very Very Poor quality product. Foot Bridge an...       1\n",
       "40  The shoe has good padding but a very rigid sol...       5\n",
       "41  This is very comfortable.I only wore it once.B...       4\n",
       "42  Classic product... Walking shows..... Nice I l...       4\n",
       "43  Poor quality productthis is very poor quality ...       1\n",
       "44  Your browser does not support HTML5 video.    ...       1\n",
       "45  Good fit, very light weight. Padding is good. ...       4\n",
       "46  Very good shoe all round.Very cofortable, ligh...       5\n",
       "47  This product is as good as its cost. If you're...       4\n",
       "48  The shoe is pretty decent. I wore it for trekk...       3\n",
       "49  Great shoes to buy. Very good in fitting, comf...       5"
      ]
     },
     "execution_count": 45,
     "metadata": {},
     "output_type": "execute_result"
    }
   ],
   "source": [
    "resultdf"
   ]
  },
  {
   "cell_type": "code",
   "execution_count": 46,
   "metadata": {},
   "outputs": [
    {
     "data": {
      "text/plain": [
       "<matplotlib.image.AxesImage at 0x1ac41882748>"
      ]
     },
     "execution_count": 46,
     "metadata": {},
     "output_type": "execute_result"
    },
    {
     "data": {
      "image/png": "[encoded data removed]",
      "text/plain": [
       "<Figure size 1080x720 with 1 Axes>"
      ]
     },
     "metadata": {
      "needs_background": "light"
     },
     "output_type": "display_data"
    }
   ],
   "source": [
    "from wordcloud import WordCloud\n",
    "positive = resultdf['Reviews']\n",
    "positive_list = [word for line in positive for word in line.split()]\n",
    "positive_cloud = WordCloud(\n",
    "    background_color='black',\n",
    "    max_words=50,\n",
    "    max_font_size=40, \n",
    "    scale=5,\n",
    "    random_state=1,\n",
    "    collocations=False,\n",
    "    normalize_plurals=False\n",
    ").generate(' '.join(positive_list))\n",
    "plt.figure(figsize=(15,10))\n",
    "plt.imshow(positive_cloud)"
   ]
  }
 ],
 "metadata": {
  "kernelspec": {
   "display_name": "Python 3",
   "language": "python",
   "name": "python3"
  },
  "language_info": {
   "codemirror_mode": {
    "name": "ipython",
    "version": 3
   },
   "file_extension": ".py",
   "mimetype": "text/x-python",
   "name": "python",
   "nbconvert_exporter": "python",
   "pygments_lexer": "ipython3",
   "version": "3.7.2"
  }
 },
 "nbformat": 4,
 "nbformat_minor": 2
}
